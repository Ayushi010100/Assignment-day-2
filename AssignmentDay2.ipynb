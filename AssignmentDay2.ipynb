{
 "cells": [
  {
   "cell_type": "markdown",
   "metadata": {},
   "source": [
    "# Lists Functions\n",
    "append\n",
    "extend\n",
    "insert remove\n",
    "pop\n",
    "index\n",
    "count\n",
    "copy \n",
    "del\n",
    "slicing\n",
    "sort\n",
    "clear\n",
    "merging lists\n",
    "making lists"
   ]
  },
  {
   "cell_type": "code",
   "execution_count": 1,
   "metadata": {},
   "outputs": [],
   "source": [
    "lst=['blue',0,4.5,8,'Ayushi']   #my list"
   ]
  },
  {
   "cell_type": "code",
   "execution_count": 2,
   "metadata": {},
   "outputs": [
    {
     "name": "stdout",
     "output_type": "stream",
     "text": [
      "['blue', 0, 4.5, 8, 'Ayushi']\n"
     ]
    }
   ],
   "source": [
    "print(lst)   #printing the list"
   ]
  },
  {
   "cell_type": "code",
   "execution_count": 3,
   "metadata": {},
   "outputs": [],
   "source": [
    "lst.append(\"1234\")\n",
    "#adding an element in my list"
   ]
  },
  {
   "cell_type": "code",
   "execution_count": 4,
   "metadata": {},
   "outputs": [
    {
     "name": "stdout",
     "output_type": "stream",
     "text": [
      "['blue', 0, 4.5, 8, 'Ayushi', '1234']\n"
     ]
    }
   ],
   "source": [
    "print(lst)"
   ]
  },
  {
   "cell_type": "code",
   "execution_count": 5,
   "metadata": {},
   "outputs": [],
   "source": [
    "lst.extend([456,'Hello',\"My\"])\n",
    "#adding more than one item in a list or we can merge two lists also"
   ]
  },
  {
   "cell_type": "code",
   "execution_count": 6,
   "metadata": {},
   "outputs": [
    {
     "name": "stdout",
     "output_type": "stream",
     "text": [
      "['blue', 0, 4.5, 8, 'Ayushi', '1234', 456, 'Hello', 'My']\n"
     ]
    }
   ],
   "source": [
    "print(lst)"
   ]
  },
  {
   "cell_type": "code",
   "execution_count": 7,
   "metadata": {},
   "outputs": [],
   "source": [
    "lst.extend(\"ayushi\")\n",
    "#if only one element is there then it will occur individually as a character"
   ]
  },
  {
   "cell_type": "code",
   "execution_count": 8,
   "metadata": {},
   "outputs": [
    {
     "name": "stdout",
     "output_type": "stream",
     "text": [
      "['blue', 0, 4.5, 8, 'Ayushi', '1234', 456, 'Hello', 'My', 'a', 'y', 'u', 's', 'h', 'i']\n"
     ]
    }
   ],
   "source": [
    "print(lst)"
   ]
  },
  {
   "cell_type": "code",
   "execution_count": 9,
   "metadata": {},
   "outputs": [
    {
     "name": "stdout",
     "output_type": "stream",
     "text": [
      "['blue', 0, 4.5, 8, 'Ayushi', '1234', 456, 'Hello', 'My', 'a', 'y', 'u', 's', 'h', 'i', 'ginni']\n",
      "['blue', 0, 4.5, 8, 'Ayushi', '1234', 456, 'Hello', 'My', 'a', 'y', 'u', 's', 'h', 'i', 'ginni', 'g', 'i', 'n', 'n', 'i']\n"
     ]
    }
   ],
   "source": [
    "name=\"ginni\"\n",
    "lst.append(name)\n",
    "print(lst)\n",
    "lst.extend(name)\n",
    "print(lst)"
   ]
  },
  {
   "cell_type": "code",
   "execution_count": 10,
   "metadata": {},
   "outputs": [
    {
     "name": "stdout",
     "output_type": "stream",
     "text": [
      "['My', 'blue', 0, 4.5, 8, 'Ayushi', '1234', 456, 'Hello', 'My', 'a', 'y', 'u', 's', 'h', 'i', 'ginni', 'g', 'i', 'n', 'n', 'i']\n"
     ]
    }
   ],
   "source": [
    "lst.insert(0,'My')\n",
    "print(lst)\n",
    "#adding element on a specified position"
   ]
  },
  {
   "cell_type": "code",
   "execution_count": 11,
   "metadata": {},
   "outputs": [
    {
     "name": "stdout",
     "output_type": "stream",
     "text": [
      "['My', 'blue', 0, 4.5, 8, 'Ayushi', '1234', 456, 'My', 'a', 'y', 'u', 's', 'h', 'i', 'ginni', 'g', 'i', 'n', 'n', 'i']\n"
     ]
    }
   ],
   "source": [
    "lst.remove(\"Hello\")\n",
    "print(lst)\n",
    "#removing element by its name"
   ]
  },
  {
   "cell_type": "code",
   "execution_count": 12,
   "metadata": {},
   "outputs": [
    {
     "name": "stdout",
     "output_type": "stream",
     "text": [
      "['My', 'blue', 0, 4.5, 8, 'Ayushi', '1234', 456, 'My', 'a', 'y', 'u', 's', 'h', 'i', 'ginni', 'g', 'i', 'n', 'n']\n"
     ]
    }
   ],
   "source": [
    "lst.pop()\n",
    "print(lst)\n",
    "#removing element from a specified position or if no position is given then by default last element is to be deleted"
   ]
  },
  {
   "cell_type": "code",
   "execution_count": 13,
   "metadata": {},
   "outputs": [
    {
     "name": "stdout",
     "output_type": "stream",
     "text": [
      "['My', 'blue', 4.5, 8, 'Ayushi', '1234', 456, 'My', 'a', 'y', 'u', 's', 'h', 'i', 'ginni', 'g', 'i', 'n', 'n']\n"
     ]
    }
   ],
   "source": [
    "lst.pop(2)\n",
    "print(lst)"
   ]
  },
  {
   "cell_type": "code",
   "execution_count": 14,
   "metadata": {},
   "outputs": [
    {
     "name": "stdout",
     "output_type": "stream",
     "text": [
      "1\n"
     ]
    }
   ],
   "source": [
    "print(lst.index(\"blue\"))"
   ]
  },
  {
   "cell_type": "code",
   "execution_count": 15,
   "metadata": {},
   "outputs": [
    {
     "name": "stdout",
     "output_type": "stream",
     "text": [
      "10\n",
      "10\n",
      "10\n"
     ]
    }
   ],
   "source": [
    "print(lst.index('u'))      #returning the position where the specified char or word is placed \n",
    "print(lst.index('u',5))      # same as above starting from a particular position\n",
    "print(lst.index('u',5,11))  #   here start and end position both are given"
   ]
  },
  {
   "cell_type": "code",
   "execution_count": 16,
   "metadata": {},
   "outputs": [
    {
     "name": "stdout",
     "output_type": "stream",
     "text": [
      "2\n"
     ]
    }
   ],
   "source": [
    "print(lst.count(\"My\"))  #counting the occurences of specified element"
   ]
  },
  {
   "cell_type": "code",
   "execution_count": 17,
   "metadata": {},
   "outputs": [
    {
     "name": "stdout",
     "output_type": "stream",
     "text": [
      "['My', 'blue', 4.5, 8, 'Ayushi', '1234', 456, 'My', 'a', 'y', 'u', 's', 'h', 'i', 'ginni', 'g', 'i', 'n', 'n']\n"
     ]
    }
   ],
   "source": [
    "#copying a list to another\n",
    "copylst = lst.copy()\n",
    "print(copylst)"
   ]
  },
  {
   "cell_type": "code",
   "execution_count": 18,
   "metadata": {},
   "outputs": [
    {
     "name": "stdout",
     "output_type": "stream",
     "text": [
      "['a', 'b', 'c', 1, 2, 3]\n"
     ]
    }
   ],
   "source": [
    "#adding or merging two list\n",
    "l1 = [\"a\", \"b\" , \"c\"]\n",
    "l2 = [1, 2, 3]\n",
    "\n",
    "l3 = l1 + l2\n",
    "print(l3)\n"
   ]
  },
  {
   "cell_type": "code",
   "execution_count": 19,
   "metadata": {},
   "outputs": [
    {
     "name": "stdout",
     "output_type": "stream",
     "text": [
      "['blue', 4.5, 8, 'Ayushi', '1234', 456, 'My', 'a', 'y', 'u', 's', 'h', 'i', 'ginni', 'g', 'i', 'n', 'n']\n"
     ]
    }
   ],
   "source": [
    "#deleting from specified index\n",
    "del lst[0]\n",
    "print(lst)"
   ]
  },
  {
   "cell_type": "code",
   "execution_count": 20,
   "metadata": {},
   "outputs": [
    {
     "name": "stdout",
     "output_type": "stream",
     "text": [
      "[1, 2, 3, 4]\n"
     ]
    }
   ],
   "source": [
    "#creating list from some elements\n",
    "newlist=list((1,2,3,4))\n",
    "print(newlist)"
   ]
  },
  {
   "cell_type": "code",
   "execution_count": 21,
   "metadata": {},
   "outputs": [
    {
     "name": "stdout",
     "output_type": "stream",
     "text": [
      "[4.5, 8, 'Ayushi']\n",
      "['blue', 4.5, 8, 'Ayushi']\n",
      "n\n",
      "['n', 'n', 'i', 'g', 'ginni', 'i', 'h', 's', 'u', 'y', 'a', 'My', 456, '1234', 'Ayushi', 8, 4.5, 'blue']\n"
     ]
    }
   ],
   "source": [
    "#slicing\n",
    "print(lst[1:4])\n",
    "print(lst[:4])\n",
    "print(lst[-1])\n",
    "print(lst[-1::-1])"
   ]
  },
  {
   "cell_type": "code",
   "execution_count": 22,
   "metadata": {},
   "outputs": [
    {
     "name": "stdout",
     "output_type": "stream",
     "text": [
      "[5, 8, 8.9, 9]\n"
     ]
    }
   ],
   "source": [
    "lst=[8.9,5,8,9]\n",
    "lst.sort()\n",
    "print(lst)"
   ]
  },
  {
   "cell_type": "code",
   "execution_count": 23,
   "metadata": {},
   "outputs": [
    {
     "name": "stdout",
     "output_type": "stream",
     "text": [
      "[9, 8.9, 8, 5]\n"
     ]
    }
   ],
   "source": [
    "lst.sort(reverse=True) #making it false will sort them in ascending..by default it is false only\n",
    "print(lst)"
   ]
  },
  {
   "cell_type": "code",
   "execution_count": 24,
   "metadata": {},
   "outputs": [
    {
     "name": "stdout",
     "output_type": "stream",
     "text": [
      "[]\n"
     ]
    }
   ],
   "source": [
    "lst.clear()  #list will get empty\n",
    "print(lst)"
   ]
  },
  {
   "cell_type": "markdown",
   "metadata": {},
   "source": [
    "# Dictionary\n",
    "get\n",
    "values \n",
    "itm\n",
    "pop\n",
    "popitem\n",
    "clear\n",
    "copy\n",
    "update\n",
    "setdefault\n",
    "fromkeys"
   ]
  },
  {
   "cell_type": "code",
   "execution_count": 25,
   "metadata": {},
   "outputs": [],
   "source": [
    "dic={                              #creating dictionary\n",
    "    \"name\":\"ayushi\",\n",
    "    \"age\":20,\n",
    "     \"phone\":1234\n",
    "    }"
   ]
  },
  {
   "cell_type": "code",
   "execution_count": 26,
   "metadata": {},
   "outputs": [
    {
     "name": "stdout",
     "output_type": "stream",
     "text": [
      "{'name': 'ayushi', 'age': 20, 'phone': 1234}\n"
     ]
    }
   ],
   "source": [
    "print(dic)                   #printing dictionary"
   ]
  },
  {
   "cell_type": "code",
   "execution_count": 27,
   "metadata": {},
   "outputs": [
    {
     "name": "stdout",
     "output_type": "stream",
     "text": [
      "ayushi\n",
      "20\n",
      "1234\n"
     ]
    }
   ],
   "source": [
    "print(dic[\"name\"])     #accessing values from dictionary\n",
    "print(dic[\"age\"])\n",
    "print(dic[\"phone\"])"
   ]
  },
  {
   "cell_type": "code",
   "execution_count": 28,
   "metadata": {},
   "outputs": [
    {
     "name": "stdout",
     "output_type": "stream",
     "text": [
      "ayushi\n",
      "20\n",
      "1234\n"
     ]
    }
   ],
   "source": [
    "print(dic.get(\"name\"))  #accessing values using get function\n",
    "print(dic.get(\"age\"))\n",
    "print(dic.get(\"phone\"))"
   ]
  },
  {
   "cell_type": "code",
   "execution_count": 29,
   "metadata": {},
   "outputs": [
    {
     "name": "stdout",
     "output_type": "stream",
     "text": [
      "{'name': 'ayushi', 'age': 20, 'phone': 1234, 'fav': 'python'}\n"
     ]
    }
   ],
   "source": [
    "dic[\"fav\"]=\"python\"                #adding item in dictionary\n",
    "print(dic)"
   ]
  },
  {
   "cell_type": "code",
   "execution_count": 30,
   "metadata": {},
   "outputs": [
    {
     "name": "stdout",
     "output_type": "stream",
     "text": [
      "name\n",
      "age\n",
      "phone\n",
      "fav\n"
     ]
    }
   ],
   "source": [
    "for x in dic:             #printing keys of dic\n",
    "  print(x)"
   ]
  },
  {
   "cell_type": "code",
   "execution_count": 31,
   "metadata": {},
   "outputs": [
    {
     "name": "stdout",
     "output_type": "stream",
     "text": [
      "ayushi\n",
      "20\n",
      "1234\n",
      "python\n"
     ]
    }
   ],
   "source": [
    "for x in dic:              #printing values of dic\n",
    "  print(dic[x])"
   ]
  },
  {
   "cell_type": "code",
   "execution_count": 32,
   "metadata": {},
   "outputs": [
    {
     "name": "stdout",
     "output_type": "stream",
     "text": [
      "ayushi\n",
      "20\n",
      "1234\n",
      "python\n"
     ]
    }
   ],
   "source": [
    "for x in dic.values():      #printing values using values function\n",
    "  print(x)"
   ]
  },
  {
   "cell_type": "code",
   "execution_count": 33,
   "metadata": {},
   "outputs": [
    {
     "name": "stdout",
     "output_type": "stream",
     "text": [
      "name ayushi\n",
      "age 20\n",
      "phone 1234\n",
      "fav python\n"
     ]
    }
   ],
   "source": [
    "for x,y in dic.items():          #printing keyvalue pair using items function\n",
    "  print(x,y)"
   ]
  },
  {
   "cell_type": "code",
   "execution_count": 34,
   "metadata": {},
   "outputs": [
    {
     "name": "stdout",
     "output_type": "stream",
     "text": [
      "Yes age is present\n"
     ]
    }
   ],
   "source": [
    "if \"age\" in dic:                 #checking if key is present in dictionary or not\n",
    "    print(\"Yes age is present\")"
   ]
  },
  {
   "cell_type": "code",
   "execution_count": 35,
   "metadata": {},
   "outputs": [
    {
     "name": "stdout",
     "output_type": "stream",
     "text": [
      "4\n"
     ]
    }
   ],
   "source": [
    "print(len(dic))     #printing the len of dictionary"
   ]
  },
  {
   "cell_type": "code",
   "execution_count": 38,
   "metadata": {},
   "outputs": [
    {
     "ename": "KeyError",
     "evalue": "'fav'",
     "output_type": "error",
     "traceback": [
      "\u001b[1;31m---------------------------------------------------------------------------\u001b[0m",
      "\u001b[1;31mKeyError\u001b[0m                                  Traceback (most recent call last)",
      "\u001b[1;32m<ipython-input-38-955585910017>\u001b[0m in \u001b[0;36m<module>\u001b[1;34m\u001b[0m\n\u001b[1;32m----> 1\u001b[1;33m \u001b[0mdic\u001b[0m\u001b[1;33m.\u001b[0m\u001b[0mpop\u001b[0m\u001b[1;33m(\u001b[0m\u001b[1;34m\"fav\"\u001b[0m\u001b[1;33m)\u001b[0m \u001b[1;31m#deleting key value pair using pop bt specifying the key\u001b[0m\u001b[1;33m\u001b[0m\u001b[1;33m\u001b[0m\u001b[0m\n\u001b[0m\u001b[0;32m      2\u001b[0m \u001b[0mprint\u001b[0m\u001b[1;33m(\u001b[0m\u001b[0mdic\u001b[0m\u001b[1;33m)\u001b[0m\u001b[1;33m\u001b[0m\u001b[1;33m\u001b[0m\u001b[0m\n",
      "\u001b[1;31mKeyError\u001b[0m: 'fav'"
     ]
    }
   ],
   "source": [
    "dic.pop(\"fav\") #deleting key value pair using pop bt specifying the key\n",
    "print(dic)"
   ]
  },
  {
   "cell_type": "code",
   "execution_count": null,
   "metadata": {},
   "outputs": [],
   "source": [
    "dic.popitem()  #versions before 3.7 a random key-value pair is popped\n",
    "print(dic)"
   ]
  },
  {
   "cell_type": "code",
   "execution_count": 39,
   "metadata": {},
   "outputs": [
    {
     "name": "stdout",
     "output_type": "stream",
     "text": [
      "{'name': 'ayushi'}\n"
     ]
    }
   ],
   "source": [
    "dic.pop(\"age\")\n",
    "print(dic)"
   ]
  },
  {
   "cell_type": "code",
   "execution_count": 40,
   "metadata": {},
   "outputs": [
    {
     "name": "stdout",
     "output_type": "stream",
     "text": [
      "None\n"
     ]
    }
   ],
   "source": [
    "dic={\n",
    "    \"name\":\"ayushi\",\n",
    "    \"age\":20,\n",
    "     \"phone\":1234\n",
    "    }\n",
    "print(dic.clear())    \n",
    "# using \"del dic\" will delete the dict entirely and will produce error beacuse the dic no longer exists\n",
    "#dic.clear will only empty the list"
   ]
  },
  {
   "cell_type": "code",
   "execution_count": 41,
   "metadata": {},
   "outputs": [
    {
     "name": "stdout",
     "output_type": "stream",
     "text": [
      "{'name': 'ayushi', 'age': 20, 'phone': 1234}\n"
     ]
    }
   ],
   "source": [
    "dic={\n",
    "    \"name\":\"ayushi\",\n",
    "    \"age\":20,\n",
    "     \"phone\":1234\n",
    "    }\n",
    "copydic = dic.copy()   #copying dic in another dict\n",
    "print(copydic)"
   ]
  },
  {
   "cell_type": "code",
   "execution_count": 42,
   "metadata": {},
   "outputs": [
    {
     "name": "stdout",
     "output_type": "stream",
     "text": [
      "{'name': 'ayushi', 'age': 20, 'phone': 1234}\n"
     ]
    }
   ],
   "source": [
    "dic={\n",
    "    \"name\":\"ayushi\",\n",
    "    \"age\":20,\n",
    "     \"phone\":1234\n",
    "    }\n",
    "copydic = dict(dic)   #copying dic using dict function\n",
    "print(copydic)"
   ]
  },
  {
   "cell_type": "code",
   "execution_count": 43,
   "metadata": {},
   "outputs": [
    {
     "name": "stdout",
     "output_type": "stream",
     "text": [
      "{'ay': 0, 'us': 0, 'hi': 0}\n"
     ]
    }
   ],
   "source": [
    "x = ('ay', 'us', 'hi') # assigning values to keys using fromkeys function\n",
    "y = 0\n",
    "\n",
    "mydict = dict.fromkeys(x, y)\n",
    "\n",
    "print(mydict)\n"
   ]
  },
  {
   "cell_type": "code",
   "execution_count": 44,
   "metadata": {},
   "outputs": [
    {
     "name": "stdout",
     "output_type": "stream",
     "text": [
      "{'ay': None, 'us': None, 'hi': None}\n"
     ]
    }
   ],
   "source": [
    "x = ('ay', 'us', 'hi')\n",
    "\n",
    "mydict = dict.fromkeys(x)\n",
    "\n",
    "print(mydict)"
   ]
  },
  {
   "cell_type": "code",
   "execution_count": 45,
   "metadata": {},
   "outputs": [
    {
     "name": "stdout",
     "output_type": "stream",
     "text": [
      "20\n"
     ]
    }
   ],
   "source": [
    "dic={\n",
    "    \"name\":\"ayushi\",\n",
    "    \"age\":20,\n",
    "     \"phone\":1234\n",
    "    }\n",
    "x =dic.setdefault(\"age\", \"24\")\n",
    "y=dic.setdefault(\"fav\", \"python\")  # if key exists then it will print its value otherwise it will print its default values\n",
    "\n",
    "print(x)"
   ]
  },
  {
   "cell_type": "code",
   "execution_count": 46,
   "metadata": {},
   "outputs": [
    {
     "name": "stdout",
     "output_type": "stream",
     "text": [
      "{'name': 'ayushi', 'age': 20, 'phone': 1234, 'fav': 'python'}\n"
     ]
    }
   ],
   "source": [
    "dic.update({\"fav\": \"python\"})       # this will add another key value pair in dictionary\n",
    "\n",
    "print(dic)   "
   ]
  },
  {
   "cell_type": "markdown",
   "metadata": {},
   "source": [
    "# Sets\n"
   ]
  },
  {
   "cell_type": "code",
   "execution_count": 47,
   "metadata": {},
   "outputs": [
    {
     "name": "stdout",
     "output_type": "stream",
     "text": [
      "{'agarwal', 'ayushi', 'ginni'}\n"
     ]
    }
   ],
   "source": [
    "myset = {\"ayushi\", \"ginni\", \"agarwal\"}\n",
    "print(myset)"
   ]
  },
  {
   "cell_type": "code",
   "execution_count": 48,
   "metadata": {},
   "outputs": [
    {
     "name": "stdout",
     "output_type": "stream",
     "text": [
      "agarwal\n",
      "ayushi\n",
      "ginni\n"
     ]
    }
   ],
   "source": [
    "for x in myset:\n",
    "  print(x)\n"
   ]
  },
  {
   "cell_type": "code",
   "execution_count": 49,
   "metadata": {},
   "outputs": [
    {
     "name": "stdout",
     "output_type": "stream",
     "text": [
      "3\n"
     ]
    }
   ],
   "source": [
    "print(len(myset))"
   ]
  },
  {
   "cell_type": "code",
   "execution_count": 50,
   "metadata": {},
   "outputs": [
    {
     "name": "stdout",
     "output_type": "stream",
     "text": [
      "{'agarwal', 'ayushi'}\n"
     ]
    }
   ],
   "source": [
    "myset.remove(\"ginni\")\n",
    "\n",
    "print(myset)"
   ]
  },
  {
   "cell_type": "code",
   "execution_count": 51,
   "metadata": {},
   "outputs": [
    {
     "name": "stdout",
     "output_type": "stream",
     "text": [
      "{1, 2, 3, 'C', 'B', 'A'}\n",
      "{1, 'C'}\n"
     ]
    }
   ],
   "source": [
    "set1={'A','B','C',1}\n",
    "set2 = {1, 2, 3,'C'}\n",
    "\n",
    "set3 = set1.union(set2)\n",
    "z = set1.intersection(set2)\n",
    "print(set3)\n",
    "print(z)"
   ]
  },
  {
   "cell_type": "code",
   "execution_count": 52,
   "metadata": {},
   "outputs": [
    {
     "name": "stdout",
     "output_type": "stream",
     "text": [
      "True\n"
     ]
    }
   ],
   "source": [
    "x = {\"a\", \"b\", \"c\"}\n",
    "y = {\"f\", \"e\", \"d\", \"c\", \"b\", \"a\"}\n",
    "\n",
    "z = x.issubset(y)\n",
    "\n",
    "print(z)"
   ]
  },
  {
   "cell_type": "markdown",
   "metadata": {},
   "source": [
    "# Tuple\n",
    "count\n",
    "index"
   ]
  },
  {
   "cell_type": "code",
   "execution_count": 53,
   "metadata": {},
   "outputs": [
    {
     "name": "stdout",
     "output_type": "stream",
     "text": [
      "('apple', 'banana', 'cherry')\n"
     ]
    }
   ],
   "source": [
    "mytuple = (\"apple\", \"banana\", \"cherry\")\n",
    "print(mytuple)"
   ]
  },
  {
   "cell_type": "code",
   "execution_count": 54,
   "metadata": {},
   "outputs": [
    {
     "name": "stdout",
     "output_type": "stream",
     "text": [
      "banana\n"
     ]
    }
   ],
   "source": [
    "mytuple = (\"apple\", \"banana\", \"cherry\")\n",
    "print(mytuple[1])"
   ]
  },
  {
   "cell_type": "code",
   "execution_count": 55,
   "metadata": {},
   "outputs": [
    {
     "name": "stdout",
     "output_type": "stream",
     "text": [
      "('apple', 'kiwi', 'cherry')\n"
     ]
    }
   ],
   "source": [
    "x = (\"apple\", \"banana\", \"cherry\")\n",
    "y = list(x)\n",
    "y[1] = \"kiwi\"\n",
    "x = tuple(y)\n",
    "\n",
    "print(x)"
   ]
  },
  {
   "cell_type": "code",
   "execution_count": 56,
   "metadata": {},
   "outputs": [
    {
     "name": "stdout",
     "output_type": "stream",
     "text": [
      "apple\n",
      "banana\n",
      "cherry\n"
     ]
    }
   ],
   "source": [
    "mytuple = (\"apple\", \"banana\", \"cherry\")\n",
    "for x in mytuple:\n",
    "  print(x)"
   ]
  },
  {
   "cell_type": "code",
   "execution_count": 57,
   "metadata": {},
   "outputs": [
    {
     "name": "stdout",
     "output_type": "stream",
     "text": [
      "Yes, 'apple' is my favourite fruit\n"
     ]
    }
   ],
   "source": [
    "mytuple = (\"apple\", \"banana\", \"cherry\")\n",
    "if \"apple\" in mytuple:\n",
    "  print(\"Yes, 'apple' is my favourite fruit\")"
   ]
  },
  {
   "cell_type": "code",
   "execution_count": 58,
   "metadata": {},
   "outputs": [
    {
     "name": "stdout",
     "output_type": "stream",
     "text": [
      "2\n"
     ]
    }
   ],
   "source": [
    "mytuple = (1, 3, 7, 8, 7, 5, 4, 6, 8, 5)\n",
    "\n",
    "x = mytuple.count(5)\n",
    "\n",
    "print(x)\n"
   ]
  },
  {
   "cell_type": "code",
   "execution_count": 59,
   "metadata": {},
   "outputs": [
    {
     "name": "stdout",
     "output_type": "stream",
     "text": [
      "3\n"
     ]
    }
   ],
   "source": [
    "x = mytuple.index(8)\n",
    "\n",
    "print(x)"
   ]
  },
  {
   "cell_type": "markdown",
   "metadata": {},
   "source": [
    "# String"
   ]
  },
  {
   "cell_type": "code",
   "execution_count": 60,
   "metadata": {},
   "outputs": [
    {
     "name": "stdout",
     "output_type": "stream",
     "text": [
      "13\n"
     ]
    }
   ],
   "source": [
    "a = \"Hello, World!\"\n",
    "print(len(a))"
   ]
  },
  {
   "cell_type": "code",
   "execution_count": 61,
   "metadata": {},
   "outputs": [
    {
     "name": "stdout",
     "output_type": "stream",
     "text": [
      "hello, world!\n"
     ]
    }
   ],
   "source": [
    "print(a.lower())"
   ]
  },
  {
   "cell_type": "code",
   "execution_count": 62,
   "metadata": {},
   "outputs": [
    {
     "name": "stdout",
     "output_type": "stream",
     "text": [
      "HELLO, WORLD!\n"
     ]
    }
   ],
   "source": [
    "print(a.upper())"
   ]
  },
  {
   "cell_type": "code",
   "execution_count": 63,
   "metadata": {},
   "outputs": [
    {
     "name": "stdout",
     "output_type": "stream",
     "text": [
      "Jello, World!\n"
     ]
    }
   ],
   "source": [
    "a = \"Hello, World!\"\n",
    "print(a.replace(\"H\", \"J\"))"
   ]
  },
  {
   "cell_type": "code",
   "execution_count": 64,
   "metadata": {},
   "outputs": [
    {
     "name": "stdout",
     "output_type": "stream",
     "text": [
      "Hello World\n"
     ]
    }
   ],
   "source": [
    "a = \"Hello\"\n",
    "b = \"World\"\n",
    "c = a + \" \" + b\n",
    "print(c)\n"
   ]
  },
  {
   "cell_type": "code",
   "execution_count": null,
   "metadata": {},
   "outputs": [],
   "source": []
  }
 ],
 "metadata": {
  "kernelspec": {
   "display_name": "Python 3",
   "language": "python",
   "name": "python3"
  },
  "language_info": {
   "codemirror_mode": {
    "name": "ipython",
    "version": 3
   },
   "file_extension": ".py",
   "mimetype": "text/x-python",
   "name": "python",
   "nbconvert_exporter": "python",
   "pygments_lexer": "ipython3",
   "version": "3.7.6"
  }
 },
 "nbformat": 4,
 "nbformat_minor": 4
}
